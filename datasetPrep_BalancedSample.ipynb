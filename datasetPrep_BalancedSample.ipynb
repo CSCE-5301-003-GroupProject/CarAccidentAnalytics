{
 "cells": [
  {
   "cell_type": "code",
   "execution_count": 1,
   "metadata": {},
   "outputs": [],
   "source": [
    "import pandas as pd\n",
    "import numpy as np"
   ]
  },
  {
   "cell_type": "code",
   "execution_count": 2,
   "metadata": {},
   "outputs": [],
   "source": [
    "data = pd.read_csv('US_Accidents_March23.csv')"
   ]
  },
  {
   "cell_type": "code",
   "execution_count": 3,
   "metadata": {},
   "outputs": [
    {
     "name": "stdout",
     "output_type": "stream",
     "text": [
      "Class Distribution Count:\n",
      " 2    6156981\n",
      "3    1299337\n",
      "4     204710\n",
      "1      67366\n",
      "Name: Severity, dtype: int64\n",
      "\n",
      "Class Distribution Percentage:\n",
      " 2    79.667017\n",
      "3    16.812510\n",
      "4     2.648804\n",
      "1     0.871669\n",
      "Name: Severity, dtype: float64\n"
     ]
    }
   ],
   "source": [
    "class_distribution = data['Severity'].value_counts()\n",
    "\n",
    "# To get a percentage distribution, you can use:\n",
    "class_distribution_percent = data['Severity'].value_counts(normalize=True) * 100\n",
    "\n",
    "# Printing the results\n",
    "print(\"Class Distribution Count:\\n\", class_distribution)\n",
    "print(\"\\nClass Distribution Percentage:\\n\", class_distribution_percent)"
   ]
  },
  {
   "cell_type": "code",
   "execution_count": 8,
   "metadata": {},
   "outputs": [],
   "source": [
    "# We will now make a sampled dataset that has equal distributions of each severity class. \n",
    "\n",
    "# Separate the dataset by class\n",
    "class_1 = data[data['Severity'] == 1]\n",
    "class_2 = data[data['Severity'] == 2]\n",
    "class_3 = data[data['Severity'] == 3]\n",
    "class_4 = data[data['Severity'] == 4]\n",
    "\n",
    "# Sample from each class\n",
    "sample_size = 20000  # Number of instances to sample from each class\n",
    "class_1_sample = class_1.sample(sample_size, random_state=42)  # Assuming you want to use all instances from class 1\n",
    "class_2_sample = class_2.sample(sample_size, random_state=42)\n",
    "class_3_sample = class_3.sample(sample_size, random_state=42)\n",
    "class_4_sample = class_4.sample(sample_size, random_state=42)\n",
    "\n",
    "# Combine the samples\n",
    "balanced_data = pd.concat([class_1_sample, class_2_sample, class_3_sample, class_4_sample])\n",
    "\n",
    "# Shuffle the dataset (optional but recommended)\n",
    "balanced_data = balanced_data.sample(frac=1, random_state=42).reset_index(drop=True)"
   ]
  },
  {
   "cell_type": "code",
   "execution_count": 10,
   "metadata": {},
   "outputs": [],
   "source": [
    "# Save the balanced dataset to a CSV file\n",
    "balanced_data.to_csv('US_Accidents_Balanced_Sample.csv', index=False)"
   ]
  }
 ],
 "metadata": {
  "kernelspec": {
   "display_name": "ML_test",
   "language": "python",
   "name": "python3"
  },
  "language_info": {
   "codemirror_mode": {
    "name": "ipython",
    "version": 3
   },
   "file_extension": ".py",
   "mimetype": "text/x-python",
   "name": "python",
   "nbconvert_exporter": "python",
   "pygments_lexer": "ipython3",
   "version": "3.11.4"
  }
 },
 "nbformat": 4,
 "nbformat_minor": 2
}
